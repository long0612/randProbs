{
 "cells": [
  {
   "cell_type": "code",
   "execution_count": 1,
   "metadata": {
    "collapsed": true
   },
   "outputs": [],
   "source": [
    "import numpy as np\n",
    "import matplotlib.pyplot as plt\n",
    "import dijkstra as D\n",
    "\n",
    "%load_ext autoreload\n",
    "%autoreload 2"
   ]
  },
  {
   "cell_type": "code",
   "execution_count": 70,
   "metadata": {
    "collapsed": false
   },
   "outputs": [
    {
     "name": "stdout",
     "output_type": "stream",
     "text": [
      "minD = 13.8994949366\n",
      "minD_ucs = 13.8994949366\n"
     ]
    }
   ],
   "source": [
    "M = 10\n",
    "N = 10\n",
    "aMap = np.random.random((M,N))\n",
    "ind1 = aMap >= 0.8\n",
    "aMap[ind1] = np.ones(np.sum(ind1))\n",
    "ind0 = aMap < 0.8\n",
    "aMap[ind0] = np.zeros(np.sum(ind0))\n",
    "\n",
    "start = (0,0)\n",
    "goal = (M-1,N-1)\n",
    "\n",
    "fullPath,minD = D.dijkstra(aMap,start,goal)\n",
    "print('minD = '+str(minD))\n",
    "\n",
    "fullPath_ucs,minD_ucs = D.dijkstra_ucs(aMap,start,goal)\n",
    "print('minD_ucs = '+str(minD_ucs))"
   ]
  },
  {
   "cell_type": "code",
   "execution_count": 71,
   "metadata": {
    "collapsed": false
   },
   "outputs": [
    {
     "data": {
      "image/png": "[encoded data removed]",
      "text/plain": [
       "<matplotlib.figure.Figure at 0x7f0fc91ddfd0>"
      ]
     },
     "metadata": {},
     "output_type": "display_data"
    }
   ],
   "source": [
    "fig,ax = plt.subplots()\n",
    "im = plt.pcolormesh(aMap)\n",
    "plt.autoscale(True,'both',True)\n",
    "fig.colorbar(im,ax=ax)\n",
    "\n",
    "x = []\n",
    "y = []\n",
    "for node in fullPath:\n",
    "    y.append(node[0]+0.5)\n",
    "    x.append(node[1]+0.5)\n",
    "plt.plot(x,y,color='yellow')\n",
    "\n",
    "x = []\n",
    "y = []\n",
    "for node in fullPath_ucs:\n",
    "    y.append(node[0]+0.5)\n",
    "    x.append(node[1]+0.5)\n",
    "plt.plot(x,y,color='cyan')\n",
    "plt.show()"
   ]
  }
 ],
 "metadata": {
  "kernelspec": {
   "display_name": "Python 3",
   "language": "python",
   "name": "python3"
  },
  "language_info": {
   "codemirror_mode": {
    "name": "ipython",
    "version": 3
   },
   "file_extension": ".py",
   "mimetype": "text/x-python",
   "name": "python",
   "nbconvert_exporter": "python",
   "pygments_lexer": "ipython3",
   "version": "3.4.3"
  }
 },
 "nbformat": 4,
 "nbformat_minor": 2
}
