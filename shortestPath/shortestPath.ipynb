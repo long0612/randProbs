{
 "cells": [
  {
   "cell_type": "code",
   "execution_count": 1,
   "metadata": {
    "collapsed": true
   },
   "outputs": [],
   "source": [
    "import numpy as np\n",
    "import matplotlib.pyplot as plt\n",
    "import dijkstra as D\n",
    "\n",
    "%load_ext autoreload\n",
    "%autoreload 2"
   ]
  },
  {
   "cell_type": "code",
   "execution_count": 39,
   "metadata": {
    "collapsed": false
   },
   "outputs": [
    {
     "name": "stdout",
     "output_type": "stream",
     "text": [
      "minD = 20.0\n"
     ]
    }
   ],
   "source": [
    "M = 10\n",
    "N = 10\n",
    "aMap = np.random.random((M,N))\n",
    "ind1 = aMap >= 0.8\n",
    "aMap[ind1] = np.ones(np.sum(ind1))\n",
    "ind0 = aMap < 0.8\n",
    "aMap[ind0] = np.zeros(np.sum(ind0))\n",
    "\n",
    "start = (0,0)\n",
    "goal = (M-1,N-1)\n",
    "\n",
    "fullPath,minD = D.dijkstra(aMap,start,goal)\n",
    "print('minD = '+str(minD))"
   ]
  },
  {
   "cell_type": "code",
   "execution_count": 40,
   "metadata": {
    "collapsed": false
   },
   "outputs": [
    {
     "data": {
      "image/png": "[encoded data removed]",
      "text/plain": [
       "<matplotlib.figure.Figure at 0x7f0fc9581e10>"
      ]
     },
     "metadata": {},
     "output_type": "display_data"
    }
   ],
   "source": [
    "x = []\n",
    "y = []\n",
    "for node in fullPath:\n",
    "    y.append(node[0]+0.5)\n",
    "    x.append(node[1]+0.5)\n",
    "    \n",
    "fig,ax = plt.subplots()\n",
    "im = plt.pcolormesh(aMap)\n",
    "plt.autoscale(True,'both',True)\n",
    "fig.colorbar(im,ax=ax)\n",
    "\n",
    "plt.plot(x,y,color='yellow')\n",
    "plt.show()"
   ]
  }
 ],
 "metadata": {
  "kernelspec": {
   "display_name": "Python 3",
   "language": "python",
   "name": "python3"
  },
  "language_info": {
   "codemirror_mode": {
    "name": "ipython",
    "version": 3
   },
   "file_extension": ".py",
   "mimetype": "text/x-python",
   "name": "python",
   "nbconvert_exporter": "python",
   "pygments_lexer": "ipython3",
   "version": "3.4.3"
  }
 },
 "nbformat": 4,
 "nbformat_minor": 2
}
