{
 "cells": [
  {
   "cell_type": "code",
   "execution_count": 4,
   "metadata": {},
   "outputs": [],
   "source": [
    "import numpy as np\n",
    "import matplotlib.pyplot as plt\n",
    "import dijkstra as D\n",
    "import bellman_ford as BF\n",
    "import time\n",
    "\n",
    "%load_ext autoreload\n",
    "%autoreload 2"
   ]
  },
  {
   "cell_type": "code",
   "execution_count": 20,
   "metadata": {},
   "outputs": [
    {
     "name": "stdout",
     "output_type": "stream",
     "text": [
      "minD = 16.7279220614\n",
      "minD_pqdict = 16.7279220614\n",
      "minD_bfs = 16.7279220614\n",
      "minD_ucs = 16.7279220614\n",
      "minD_ucs_pqdict = 16.7279220614\n",
      "minD_Astar = 16.7279220614\n",
      "minD_Astar_pqdict = 16.7279220614\n",
      "minD_bf = 16.7279220614\n"
     ]
    }
   ],
   "source": [
    "M = 12\n",
    "N = 12\n",
    "thresh = 0.7\n",
    "aMap = np.random.random((M,N))\n",
    "ind1 = aMap >= thresh\n",
    "aMap[ind1] = np.ones(np.sum(ind1))\n",
    "ind0 = aMap < thresh\n",
    "aMap[ind0] = np.zeros(np.sum(ind0))\n",
    "\n",
    "start = (0,0)\n",
    "goal = (M-1,N-1)\n",
    "aMap[start] = 0\n",
    "aMap[goal] = 0\n",
    "\n",
    "fullPath,minD = D.dijkstra(aMap,start,goal)\n",
    "fullPath_pqdict,minD_pqdict = D.dijkstra_pqdict(aMap,start,goal)\n",
    "#print('fullPath = %s' % fullPath)\n",
    "#print('fullPath_pqdict = %s' % fullPath_pq)\n",
    "print('minD = %s' % minD)\n",
    "print('minD_pqdict = %s' % minD_pqdict)\n",
    "\n",
    "fullPath_bfs,minD_bfs,explored_bfs = D.dijkstra_bfs(aMap,start,goal)\n",
    "print('minD_bfs = '+str(minD_bfs))\n",
    "\n",
    "#tS_ucs = time.clock()\n",
    "fullPath_ucs,minD_ucs,explored_ucs = D.dijkstra_ucs(aMap,start,goal)\n",
    "fullPath_ucs_pqdict,minD_ucs_pqdict,explored_ucs_pqdict = D.dijkstra_ucs_pqdict(aMap,start,goal)\n",
    "#print('tE_ucs = %.5f' % (time.clock()-tS_ucs))\n",
    "print('minD_ucs = '+str(minD_ucs))\n",
    "print('minD_ucs_pqdict = '+str(minD_ucs_pqdict))\n",
    "\n",
    "fullPath_Astar,minD_Astar,explored_Astar = D.Astar(aMap,start,goal)\n",
    "fullPath_Astar_pqdict,minD_Astar_pqdict,explored_Astar_pqdict = D.Astar_pqdict(aMap,start,goal)\n",
    "print('minD_Astar = '+str(minD_Astar))\n",
    "print('minD_Astar_pqdict = '+str(minD_Astar_pqdict))\n",
    "\n",
    "fullPath_bf,minD_bf = BF.bellman_ford(aMap,start,goal)\n",
    "print('minD_bf = '+str(minD_bf))"
   ]
  },
  {
   "cell_type": "code",
   "execution_count": 21,
   "metadata": {},
   "outputs": [
    {
     "data": {
      "image/png": "[encoded data removed]",
      "text/plain": [
       "<matplotlib.figure.Figure at 0x7fb2c77d3630>"
      ]
     },
     "metadata": {},
     "output_type": "display_data"
    }
   ],
   "source": [
    "fig,ax = plt.subplots()\n",
    "im = plt.pcolormesh(aMap)\n",
    "plt.autoscale(True,'both',True)\n",
    "fig.colorbar(im,ax=ax)\n",
    "\n",
    "# dijkstra\n",
    "x = []\n",
    "y = []\n",
    "for node in fullPath:\n",
    "    y.append(node[0]+0.5)\n",
    "    x.append(node[1]+0.5)\n",
    "plt.plot(x,y,color='cyan')\n",
    "\n",
    "# dijkstra_bfs\n",
    "x = []\n",
    "y = []\n",
    "for node in fullPath_bfs:\n",
    "    y.append(node[0]+0.5)\n",
    "    x.append(node[1]+0.5)\n",
    "plt.plot(x,y,color='black')\n",
    "x = []\n",
    "y = []\n",
    "for node in explored_bfs:\n",
    "    y.append(node[0]+0.5)\n",
    "    x.append(node[1]+0.5)\n",
    "plt.plot(x,y,color='black',marker='x',linestyle='None')\n",
    "\n",
    "# ucs\n",
    "x = []\n",
    "y = []\n",
    "for node in fullPath_ucs:\n",
    "    y.append(node[0]+0.5)\n",
    "    x.append(node[1]+0.5)\n",
    "plt.plot(x,y,color='green')\n",
    "x = []\n",
    "y = []\n",
    "for node in explored_ucs:\n",
    "    y.append(node[0]+0.5)\n",
    "    x.append(node[1]+0.5)\n",
    "plt.plot(x,y,color='green',marker='x',linestyle='None')\n",
    "\n",
    "# A*\n",
    "x = []\n",
    "y = []\n",
    "for node in fullPath_Astar:\n",
    "    y.append(node[0]+0.5)\n",
    "    x.append(node[1]+0.5)\n",
    "plt.plot(x,y,color='yellow')\n",
    "x = []\n",
    "y = []\n",
    "for node in explored_Astar:\n",
    "    y.append(node[0]+0.5)\n",
    "    x.append(node[1]+0.5)\n",
    "plt.plot(x,y,color='yellow',marker='x',linestyle='None')\n",
    "\n",
    "# Bellman-Ford\n",
    "x = []\n",
    "y = []\n",
    "for node in fullPath_Astar:\n",
    "    y.append(node[0]+0.5)\n",
    "    x.append(node[1]+0.5)\n",
    "plt.plot(x,y,color='magenta')\n",
    "\n",
    "plt.show()"
   ]
  },
  {
   "cell_type": "code",
   "execution_count": 22,
   "metadata": {},
   "outputs": [
    {
     "data": {
      "image/png": "[encoded data removed]",
      "text/plain": [
       "<matplotlib.figure.Figure at 0x7fb2c7731be0>"
      ]
     },
     "metadata": {},
     "output_type": "display_data"
    }
   ],
   "source": [
    "fig,ax = plt.subplots()\n",
    "im = plt.pcolormesh(aMap)\n",
    "plt.autoscale(True,'both',True)\n",
    "fig.colorbar(im,ax=ax)\n",
    "\n",
    "x = []\n",
    "y = []\n",
    "for node in fullPath_bfs:\n",
    "    y.append(node[0]+0.5)\n",
    "    x.append(node[1]+0.5)\n",
    "plt.plot(x,y,color='black')\n",
    "x = []\n",
    "y = []\n",
    "for node in explored_bfs:\n",
    "    y.append(node[0]+0.5)\n",
    "    x.append(node[1]+0.5)\n",
    "plt.plot(x,y,color='black',marker='x',linestyle='None')\n",
    "\n",
    "plt.show()"
   ]
  },
  {
   "cell_type": "code",
   "execution_count": 23,
   "metadata": {},
   "outputs": [
    {
     "name": "stdout",
     "output_type": "stream",
     "text": [
      "word_cur = hit\n",
      "word_cur = hot\n",
      "word_cur = dot\n",
      "word_cur = lot\n",
      "word_cur = lot\n",
      "word_cur = dog\n",
      "word_cur = log\n",
      "word_cur = log\n",
      "word_cur = log\n",
      "word_cur = cog\n",
      "endWord reached\n"
     ]
    },
    {
     "data": {
      "text/plain": [
       "['hit', 'hot', 'dot', 'dog', 'cog']"
      ]
     },
     "execution_count": 23,
     "metadata": {},
     "output_type": "execute_result"
    }
   ],
   "source": [
    "import findLadders\n",
    "\n",
    "beginWord = \"hit\"\n",
    "endWord = \"cog\"\n",
    "wordList = [\"hot\",\"dot\",\"dog\",\"lot\",\"log\",\"cog\"]\n",
    "\n",
    "sol = findLadders.Solution()\n",
    "sol.findLadders(beginWord,endWord,wordList)"
   ]
  },
  {
   "cell_type": "code",
   "execution_count": null,
   "metadata": {},
   "outputs": [],
   "source": []
  }
 ],
 "metadata": {
  "kernelspec": {
   "display_name": "Python 3",
   "language": "python",
   "name": "python3"
  },
  "language_info": {
   "codemirror_mode": {
    "name": "ipython",
    "version": 3
   },
   "file_extension": ".py",
   "mimetype": "text/x-python",
   "name": "python",
   "nbconvert_exporter": "python",
   "pygments_lexer": "ipython3",
   "version": "3.5.2"
  }
 },
 "nbformat": 4,
 "nbformat_minor": 2
}
