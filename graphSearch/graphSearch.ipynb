{
 "cells": [
  {
   "cell_type": "code",
   "execution_count": null,
   "metadata": {
    "collapsed": true
   },
   "outputs": [],
   "source": [
    "import numpy as np\n",
    "import matplotlib.pyplot as plt\n",
    "import dijkstra as D\n",
    "import bellman_ford as BF\n",
    "\n",
    "%load_ext autoreload\n",
    "%autoreload 2"
   ]
  },
  {
   "cell_type": "code",
   "execution_count": null,
   "metadata": {
    "collapsed": true
   },
   "outputs": [],
   "source": [
    "M = 20\n",
    "N = 20\n",
    "thresh = 0.7\n",
    "aMap = np.random.random((M,N))\n",
    "ind1 = aMap >= thresh\n",
    "aMap[ind1] = np.ones(np.sum(ind1))\n",
    "ind0 = aMap < thresh\n",
    "aMap[ind0] = np.zeros(np.sum(ind0))\n",
    "\n",
    "start = (0,0)\n",
    "goal = (M-1,N-1)"
   ]
  }
 ],
 "metadata": {
  "kernelspec": {
   "display_name": "Python 3",
   "language": "python",
   "name": "python3"
  },
  "language_info": {
   "codemirror_mode": {
    "name": "ipython",
    "version": 3
   },
   "file_extension": ".py",
   "mimetype": "text/x-python",
   "name": "python",
   "nbconvert_exporter": "python",
   "pygments_lexer": "ipython3",
   "version": "3.5.2"
  }
 },
 "nbformat": 4,
 "nbformat_minor": 2
}
