{
 "cells": [
  {
   "cell_type": "code",
   "execution_count": 1,
   "metadata": {
    "collapsed": false
   },
   "outputs": [],
   "source": [
    "from minHeapQ import MinHeapQ\n",
    "\n",
    "%load_ext autoreload\n",
    "%autoreload 2"
   ]
  },
  {
   "cell_type": "code",
   "execution_count": 2,
   "metadata": {
    "collapsed": false
   },
   "outputs": [
    {
     "name": "stdout",
     "output_type": "stream",
     "text": [
      "minhq.buf = [0, 1, 4, 2, 7, 5, 6, 3]\n",
      "minhq.valMap = {1: 1, 2: 2, 3: 3, 4: 4, 5: 5, 6: 6, 7: 7}\n",
      "(1, 1)\n",
      "minhq.buf = [0, 2, 4, 3, 7, 5, 6]\n",
      "minhq.valMap = {2: 2, 3: 3, 4: 4, 5: 5, 6: 6, 7: 7}\n",
      "(2, 2)\n",
      "minhq.buf = [0, 3, 4, 6, 7, 5]\n",
      "minhq.valMap = {3: 3, 4: 4, 5: 5, 6: 6, 7: 7}\n",
      "(3, 3)\n",
      "minhq.buf = [0, 4, 5, 6, 7, 8]\n",
      "minhq.valMap = {4: 4, 5: 5, 6: 6, 7: 7, 8: 8}\n",
      "(4, 4)\n",
      "(5, 5)\n",
      "(6, 6)\n",
      "(7, 7)\n",
      "minhq.buf = [0, 8, 9, 10]\n",
      "minhq.valMap = {8: 8, 9: 9, 10: 10}\n"
     ]
    }
   ],
   "source": [
    "minhq = MinHeapQ()\n",
    "minhq.push(7,7)\n",
    "minhq.push(6,6)\n",
    "minhq.push(5,5)\n",
    "minhq.push(4,4)\n",
    "minhq.push(3,3)\n",
    "minhq.push(2,2)\n",
    "minhq.push(1,1)\n",
    "print('minhq.buf = '+str(minhq.buf))\n",
    "print('minhq.valMap = '+str(minhq.valMap))\n",
    "print(minhq.popitem())\n",
    "print('minhq.buf = '+str(minhq.buf))\n",
    "print('minhq.valMap = '+str(minhq.valMap))\n",
    "print(minhq.popitem())\n",
    "print('minhq.buf = '+str(minhq.buf))\n",
    "print('minhq.valMap = '+str(minhq.valMap))\n",
    "print(minhq.popitem())\n",
    "minhq.push(8,8)\n",
    "print('minhq.buf = '+str(minhq.buf))\n",
    "print('minhq.valMap = '+str(minhq.valMap))\n",
    "print(minhq.popitem())\n",
    "print(minhq.popitem())\n",
    "minhq.push(9,9)\n",
    "print(minhq.popitem())\n",
    "minhq.push(10,10)\n",
    "print(minhq.popitem())\n",
    "print('minhq.buf = '+str(minhq.buf))\n",
    "print('minhq.valMap = '+str(minhq.valMap))"
   ]
  }
 ],
 "metadata": {
  "kernelspec": {
   "display_name": "Python 3",
   "language": "python",
   "name": "python3"
  },
  "language_info": {
   "codemirror_mode": {
    "name": "ipython",
    "version": 3
   },
   "file_extension": ".py",
   "mimetype": "text/x-python",
   "name": "python",
   "nbconvert_exporter": "python",
   "pygments_lexer": "ipython3",
   "version": "3.4.3"
  }
 },
 "nbformat": 4,
 "nbformat_minor": 2
}
