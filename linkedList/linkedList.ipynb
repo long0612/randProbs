{
 "cells": [
  {
   "cell_type": "code",
   "execution_count": 1,
   "metadata": {
    "collapsed": false
   },
   "outputs": [],
   "source": [
    "import numpy as np\n",
    "import matplotlib.pyplot as plt\n",
    "import ListNode as ln\n",
    "from utils import *\n",
    "\n",
    "%load_ext autoreload\n",
    "%autoreload 2"
   ]
  },
  {
   "cell_type": "code",
   "execution_count": 2,
   "metadata": {
    "collapsed": false
   },
   "outputs": [
    {
     "name": "stdout",
     "output_type": "stream",
     "text": [
      "ln.serialize(l1) = [1, 2, 3, 4]\n",
      "ln.serialize(l2) = [5, 6, 7, 8]\n",
      "ln.serialize(lSum) = [6, 8, 0, 3, 1]\n",
      "ln.serialize(lMerge) = [1, 2, 3, 4, 5, 6, 7, 8]\n"
     ]
    }
   ],
   "source": [
    "l1 = ln.deserialize([1,2,3,4])\n",
    "l2 = ln.deserialize([5,6,7,8])\n",
    "lSum = addTwoNumbers(l1,l2)\n",
    "lMerge = mergeTwoLists(l1,l2)\n",
    "\n",
    "print('ln.serialize(l1) = '+str(ln.serialize(l1)))\n",
    "print('ln.serialize(l2) = '+str(ln.serialize(l2)))\n",
    "print('ln.serialize(lSum) = '+str(ln.serialize(lSum)))\n",
    "print('ln.serialize(lMerge) = '+str(ln.serialize(lMerge)))"
   ]
  },
  {
   "cell_type": "code",
   "execution_count": 3,
   "metadata": {
    "collapsed": false
   },
   "outputs": [
    {
     "name": "stdout",
     "output_type": "stream",
     "text": [
      "False\n",
      "False\n",
      "None\n"
     ]
    }
   ],
   "source": [
    "print(hasCycle(l1))\n",
    "print(hasCycle(l2))\n",
    "print(intersection(l1,l2))"
   ]
  },
  {
   "cell_type": "code",
   "execution_count": null,
   "metadata": {
    "collapsed": true
   },
   "outputs": [],
   "source": []
  }
 ],
 "metadata": {
  "kernelspec": {
   "display_name": "Python 3",
   "language": "python",
   "name": "python3"
  },
  "language_info": {
   "codemirror_mode": {
    "name": "ipython",
    "version": 3
   },
   "file_extension": ".py",
   "mimetype": "text/x-python",
   "name": "python",
   "nbconvert_exporter": "python",
   "pygments_lexer": "ipython3",
   "version": "3.4.3"
  }
 },
 "nbformat": 4,
 "nbformat_minor": 2
}
