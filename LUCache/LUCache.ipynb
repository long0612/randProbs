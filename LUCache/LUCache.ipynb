{
 "cells": [
  {
   "cell_type": "code",
   "execution_count": 3,
   "metadata": {
    "collapsed": false
   },
   "outputs": [
    {
     "name": "stdout",
     "output_type": "stream",
     "text": [
      "The autoreload extension is already loaded. To reload it, use:\n",
      "  %reload_ext autoreload\n"
     ]
    }
   ],
   "source": [
    "#import sys\n",
    "import numpy as np\n",
    "from LFUCache import LFUBin,LFUCache\n",
    "from LRUCache import LRUCache\n",
    "\n",
    "%load_ext autoreload\n",
    "%autoreload 2"
   ]
  },
  {
   "cell_type": "code",
   "execution_count": 2,
   "metadata": {
    "collapsed": false
   },
   "outputs": [],
   "source": [
    "mLFUBin = LFUBin()\n",
    "mLFUBin.push(1)\n",
    "mLFUBin.push(1)\n",
    "mLFUBin.push(2)\n",
    "mLFUBin.push(1)\n",
    "mLFUBin.push(2)\n",
    "mLFUBin.push(3)\n",
    "mLFUBin.push(1)\n",
    "mLFUBin.push(4)\n",
    "mLFUBin.push(4)"
   ]
  },
  {
   "cell_type": "code",
   "execution_count": 3,
   "metadata": {
    "collapsed": false
   },
   "outputs": [
    {
     "name": "stdout",
     "output_type": "stream",
     "text": [
      "mLFUBin.binHead = <LFUCache.BinNode object at 0x7f1fd45e8b38>\n",
      "mLFUBin.binHead.next = <LFUCache.BinNode object at 0x7f1fd45e8ac8>\n",
      "=======\n",
      "mLFUBin.nodeMap[3] = <LFUCache.BinNode object at 0x7f1fd45e8ac8>\n",
      "mLFUBin.nodeMap[3].cnt = 1\n",
      "mLFUBin.nodeMap[3].keys = [3]\n",
      "mLFUBin.nodeMap[3].prev = <LFUCache.BinNode object at 0x7f1fd45e8b38>\n",
      "mLFUBin.nodeMap[3].next = <LFUCache.BinNode object at 0x7f1fd45e8c50>\n",
      "=======\n",
      "mLFUBin.nodeMap[2] = <LFUCache.BinNode object at 0x7f1fd45e8c50>\n",
      "mLFUBin.nodeMap[4] = <LFUCache.BinNode object at 0x7f1fd45e8c50>\n",
      "mLFUBin.nodeMap[4].cnt = 2\n",
      "mLFUBin.nodeMap[4].keys = [2, 4]\n",
      "mLFUBin.nodeMap[4].prev = <LFUCache.BinNode object at 0x7f1fd45e8ac8>\n",
      "mLFUBin.nodeMap[4].next = <LFUCache.BinNode object at 0x7f1fd45e8be0>\n",
      "=======\n",
      "mLFUBin.nodeMap[1] = <LFUCache.BinNode object at 0x7f1fd45e8be0>\n",
      "mLFUBin.nodeMap[1].cnt = 4\n",
      "mLFUBin.nodeMap[1].keys = [1]\n",
      "mLFUBin.nodeMap[1].prev = <LFUCache.BinNode object at 0x7f1fd45e8c50>\n",
      "mLFUBin.nodeMap[1].next = None\n"
     ]
    }
   ],
   "source": [
    "print('mLFUBin.binHead = '+str(mLFUBin.binHead))\n",
    "print('mLFUBin.binHead.next = '+str(mLFUBin.binHead.next))\n",
    "print('=======')\n",
    "print('mLFUBin.nodeMap[3] = '+str(mLFUBin.nodeMap[3]))\n",
    "print('mLFUBin.nodeMap[3].cnt = '+str(mLFUBin.nodeMap[3].cnt))\n",
    "print('mLFUBin.nodeMap[3].keys = '+str(mLFUBin.nodeMap[3].keys))\n",
    "print('mLFUBin.nodeMap[3].prev = '+str(mLFUBin.nodeMap[3].prev))\n",
    "print('mLFUBin.nodeMap[3].next = '+str(mLFUBin.nodeMap[3].next))\n",
    "print('=======')\n",
    "print('mLFUBin.nodeMap[2] = '+str(mLFUBin.nodeMap[2]))\n",
    "print('mLFUBin.nodeMap[4] = '+str(mLFUBin.nodeMap[4]))\n",
    "print('mLFUBin.nodeMap[4].cnt = '+str(mLFUBin.nodeMap[4].cnt))\n",
    "print('mLFUBin.nodeMap[4].keys = '+str(mLFUBin.nodeMap[4].keys))\n",
    "print('mLFUBin.nodeMap[4].prev = '+str(mLFUBin.nodeMap[4].prev))\n",
    "print('mLFUBin.nodeMap[4].next = '+str(mLFUBin.nodeMap[4].next))\n",
    "print('=======')\n",
    "print('mLFUBin.nodeMap[1] = '+str(mLFUBin.nodeMap[1]))\n",
    "print('mLFUBin.nodeMap[1].cnt = '+str(mLFUBin.nodeMap[1].cnt))\n",
    "print('mLFUBin.nodeMap[1].keys = '+str(mLFUBin.nodeMap[1].keys))\n",
    "print('mLFUBin.nodeMap[1].prev = '+str(mLFUBin.nodeMap[1].prev))\n",
    "print('mLFUBin.nodeMap[1].next = '+str(mLFUBin.nodeMap[1].next))"
   ]
  },
  {
   "cell_type": "code",
   "execution_count": 4,
   "metadata": {
    "collapsed": false
   },
   "outputs": [
    {
     "data": {
      "text/plain": [
       "3"
      ]
     },
     "execution_count": 4,
     "metadata": {},
     "output_type": "execute_result"
    }
   ],
   "source": [
    "mLFUBin.pop()"
   ]
  },
  {
   "cell_type": "code",
   "execution_count": 5,
   "metadata": {
    "collapsed": false
   },
   "outputs": [
    {
     "name": "stdout",
     "output_type": "stream",
     "text": [
      "mLFUBin.binHead = <LFUCache.BinNode object at 0x7f1fd45e8b38>\n",
      "mLFUBin.binHead.next = <LFUCache.BinNode object at 0x7f1fd45e8c50>\n",
      "=======\n",
      "mLFUBin.nodeMap[2] = <LFUCache.BinNode object at 0x7f1fd45e8c50>\n",
      "mLFUBin.nodeMap[4] = <LFUCache.BinNode object at 0x7f1fd45e8c50>\n",
      "mLFUBin.nodeMap[4].cnt = 2\n",
      "mLFUBin.nodeMap[4].keys = [2, 4]\n",
      "mLFUBin.nodeMap[4].prev = <LFUCache.BinNode object at 0x7f1fd45e8b38>\n",
      "mLFUBin.nodeMap[4].next = <LFUCache.BinNode object at 0x7f1fd45e8be0>\n",
      "=======\n",
      "mLFUBin.nodeMap[1] = <LFUCache.BinNode object at 0x7f1fd45e8be0>\n",
      "mLFUBin.nodeMap[1].cnt = 4\n",
      "mLFUBin.nodeMap[1].keys = [1]\n",
      "mLFUBin.nodeMap[1].prev = <LFUCache.BinNode object at 0x7f1fd45e8c50>\n",
      "mLFUBin.nodeMap[1].next = None\n"
     ]
    }
   ],
   "source": [
    "print('mLFUBin.binHead = '+str(mLFUBin.binHead))\n",
    "print('mLFUBin.binHead.next = '+str(mLFUBin.binHead.next))\n",
    "print('=======')\n",
    "print('mLFUBin.nodeMap[2] = '+str(mLFUBin.nodeMap[2]))\n",
    "print('mLFUBin.nodeMap[4] = '+str(mLFUBin.nodeMap[4]))\n",
    "print('mLFUBin.nodeMap[4].cnt = '+str(mLFUBin.nodeMap[4].cnt))\n",
    "print('mLFUBin.nodeMap[4].keys = '+str(mLFUBin.nodeMap[4].keys))\n",
    "print('mLFUBin.nodeMap[4].prev = '+str(mLFUBin.nodeMap[4].prev))\n",
    "print('mLFUBin.nodeMap[4].next = '+str(mLFUBin.nodeMap[4].next))\n",
    "print('=======')\n",
    "print('mLFUBin.nodeMap[1] = '+str(mLFUBin.nodeMap[1]))\n",
    "print('mLFUBin.nodeMap[1].cnt = '+str(mLFUBin.nodeMap[1].cnt))\n",
    "print('mLFUBin.nodeMap[1].keys = '+str(mLFUBin.nodeMap[1].keys))\n",
    "print('mLFUBin.nodeMap[1].prev = '+str(mLFUBin.nodeMap[1].prev))\n",
    "print('mLFUBin.nodeMap[1].next = '+str(mLFUBin.nodeMap[1].next))"
   ]
  },
  {
   "cell_type": "code",
   "execution_count": 6,
   "metadata": {
    "collapsed": false
   },
   "outputs": [
    {
     "data": {
      "text/plain": [
       "2"
      ]
     },
     "execution_count": 6,
     "metadata": {},
     "output_type": "execute_result"
    }
   ],
   "source": [
    "mLFUBin.pop()"
   ]
  },
  {
   "cell_type": "code",
   "execution_count": 7,
   "metadata": {
    "collapsed": false
   },
   "outputs": [
    {
     "name": "stdout",
     "output_type": "stream",
     "text": [
      "mLFUBin.binHead = <LFUCache.BinNode object at 0x7f1fd45e8b38>\n",
      "mLFUBin.binHead.next = <LFUCache.BinNode object at 0x7f1fd45e8c50>\n",
      "=======\n",
      "mLFUBin.nodeMap[4] = <LFUCache.BinNode object at 0x7f1fd45e8c50>\n",
      "mLFUBin.nodeMap[4].cnt = 2\n",
      "mLFUBin.nodeMap[4].keys = [4]\n",
      "mLFUBin.nodeMap[4].prev = <LFUCache.BinNode object at 0x7f1fd45e8b38>\n",
      "mLFUBin.nodeMap[4].next = <LFUCache.BinNode object at 0x7f1fd45e8be0>\n",
      "=======\n",
      "mLFUBin.nodeMap[1] = <LFUCache.BinNode object at 0x7f1fd45e8be0>\n",
      "mLFUBin.nodeMap[1].cnt = 4\n",
      "mLFUBin.nodeMap[1].keys = [1]\n",
      "mLFUBin.nodeMap[1].prev = <LFUCache.BinNode object at 0x7f1fd45e8c50>\n",
      "mLFUBin.nodeMap[1].next = None\n"
     ]
    }
   ],
   "source": [
    "print('mLFUBin.binHead = '+str(mLFUBin.binHead))\n",
    "print('mLFUBin.binHead.next = '+str(mLFUBin.binHead.next))\n",
    "print('=======')\n",
    "print('mLFUBin.nodeMap[4] = '+str(mLFUBin.nodeMap[4]))\n",
    "print('mLFUBin.nodeMap[4].cnt = '+str(mLFUBin.nodeMap[4].cnt))\n",
    "print('mLFUBin.nodeMap[4].keys = '+str(mLFUBin.nodeMap[4].keys))\n",
    "print('mLFUBin.nodeMap[4].prev = '+str(mLFUBin.nodeMap[4].prev))\n",
    "print('mLFUBin.nodeMap[4].next = '+str(mLFUBin.nodeMap[4].next))\n",
    "print('=======')\n",
    "print('mLFUBin.nodeMap[1] = '+str(mLFUBin.nodeMap[1]))\n",
    "print('mLFUBin.nodeMap[1].cnt = '+str(mLFUBin.nodeMap[1].cnt))\n",
    "print('mLFUBin.nodeMap[1].keys = '+str(mLFUBin.nodeMap[1].keys))\n",
    "print('mLFUBin.nodeMap[1].prev = '+str(mLFUBin.nodeMap[1].prev))\n",
    "print('mLFUBin.nodeMap[1].next = '+str(mLFUBin.nodeMap[1].next))"
   ]
  },
  {
   "cell_type": "code",
   "execution_count": 9,
   "metadata": {
    "collapsed": false
   },
   "outputs": [
    {
     "name": "stdout",
     "output_type": "stream",
     "text": [
      "1\n",
      "-1\n",
      "3\n",
      "-1\n",
      "3\n",
      "4\n"
     ]
    }
   ],
   "source": [
    "mLFUCache = LFUCache(2)\n",
    "mLFUCache.put(1, 1);\n",
    "mLFUCache.put(2, 2);\n",
    "print(mLFUCache.get(1));\n",
    "mLFUCache.put(3, 3);\n",
    "print(mLFUCache.get(2));\n",
    "print(mLFUCache.get(3));\n",
    "mLFUCache.put(4, 4);\n",
    "print(mLFUCache.get(1));\n",
    "print(mLFUCache.get(3));\n",
    "print(mLFUCache.get(4));"
   ]
  },
  {
   "cell_type": "code",
   "execution_count": 4,
   "metadata": {
    "collapsed": false
   },
   "outputs": [
    {
     "name": "stdout",
     "output_type": "stream",
     "text": [
      "1\n",
      "2\n",
      "3\n",
      "-1\n",
      "-1\n",
      "4\n"
     ]
    }
   ],
   "source": [
    "mLRUCache = LRUCache(2)\n",
    "mLRUCache.put(1, 1);\n",
    "mLRUCache.put(2, 2);\n",
    "print(mLRUCache.get(1));\n",
    "mLRUCache.put(3, 3);\n",
    "print(mLRUCache.get(2));\n",
    "print(mLRUCache.get(3));\n",
    "mLRUCache.put(4, 4);\n",
    "print(mLRUCache.get(1));\n",
    "print(mLRUCache.get(3));\n",
    "print(mLRUCache.get(4));"
   ]
  },
  {
   "cell_type": "code",
   "execution_count": 13,
   "metadata": {
    "collapsed": false
   },
   "outputs": [
    {
     "name": "stdout",
     "output_type": "stream",
     "text": [
      "=======\n",
      "mLFUCache.mLFUBin.binHead = <LFUCache.BinNode object at 0x7fed2fb1fe48>\n",
      "mLFUCache.mLFUBin.binHead.next = <LFUCache.BinNode object at 0x7fed2fb13be0>\n",
      "=======\n",
      "mLFUCache.mLFUBin.nodeMap[2] = <LFUCache.BinNode object at 0x7fed2fb13be0>\n",
      "mLFUCache.mLFUBin.nodeMap[2].cnt = 1\n",
      "mLFUCache.mLFUBin.nodeMap[2].keys = [2]\n",
      "mLFUCache.mLFUBin.nodeMap[2].prev = <LFUCache.BinNode object at 0x7fed2fb1fe48>\n",
      "mLFUCache.mLFUBin.nodeMap[2].next = None\n",
      "=======\n",
      "mLFUCache.mLFUBin.binHead = <LFUCache.BinNode object at 0x7fed2fb1fe48>\n",
      "mLFUCache.mLFUBin.binHead.next = <LFUCache.BinNode object at 0x7fed2fb1a278>\n",
      "=======\n",
      "mLFUCache.mLFUBin.nodeMap[2] = <LFUCache.BinNode object at 0x7fed2fb1a278>\n",
      "mLFUCache.mLFUBin.nodeMap[2].cnt = 2\n",
      "mLFUCache.mLFUBin.nodeMap[2].keys = [2]\n",
      "mLFUCache.mLFUBin.nodeMap[2].prev = <LFUCache.BinNode object at 0x7fed2fb1fe48>\n",
      "mLFUCache.mLFUBin.nodeMap[2].next = None\n"
     ]
    }
   ],
   "source": [
    "mLFUCache = LFUCache(1)\n",
    "mLFUCache.put(2, 1);\n",
    "\n",
    "print('=======')\n",
    "print('mLFUCache.mLFUBin.binHead = '+str(mLFUCache.mLFUBin.binHead))\n",
    "print('mLFUCache.mLFUBin.binHead.next = '+str(mLFUCache.mLFUBin.binHead.next))\n",
    "print('=======')\n",
    "print('mLFUCache.mLFUBin.nodeMap[2] = '+str(mLFUCache.mLFUBin.nodeMap[2]))\n",
    "print('mLFUCache.mLFUBin.nodeMap[2].cnt = '+str(mLFUCache.mLFUBin.nodeMap[2].cnt))\n",
    "print('mLFUCache.mLFUBin.nodeMap[2].keys = '+str(mLFUCache.mLFUBin.nodeMap[2].keys))\n",
    "print('mLFUCache.mLFUBin.nodeMap[2].prev = '+str(mLFUCache.mLFUBin.nodeMap[2].prev))\n",
    "print('mLFUCache.mLFUBin.nodeMap[2].next = '+str(mLFUCache.mLFUBin.nodeMap[2].next))\n",
    "\n",
    "mLFUCache.get(2);\n",
    "\n",
    "print('=======')\n",
    "print('mLFUCache.mLFUBin.binHead = '+str(mLFUCache.mLFUBin.binHead))\n",
    "print('mLFUCache.mLFUBin.binHead.next = '+str(mLFUCache.mLFUBin.binHead.next))\n",
    "print('=======')\n",
    "print('mLFUCache.mLFUBin.nodeMap[2] = '+str(mLFUCache.mLFUBin.nodeMap[2]))\n",
    "print('mLFUCache.mLFUBin.nodeMap[2].cnt = '+str(mLFUCache.mLFUBin.nodeMap[2].cnt))\n",
    "print('mLFUCache.mLFUBin.nodeMap[2].keys = '+str(mLFUCache.mLFUBin.nodeMap[2].keys))\n",
    "print('mLFUCache.mLFUBin.nodeMap[2].prev = '+str(mLFUCache.mLFUBin.nodeMap[2].prev))\n",
    "print('mLFUCache.mLFUBin.nodeMap[2].next = '+str(mLFUCache.mLFUBin.nodeMap[2].next))\n",
    "\n",
    "mLFUCache.put(3, 2);\n",
    "mLFUCache.get(2);\n",
    "mLFUCache.get(3);"
   ]
  },
  {
   "cell_type": "code",
   "execution_count": 15,
   "metadata": {
    "collapsed": false
   },
   "outputs": [],
   "source": [
    "mLFUCache = LFUCache(0)\n",
    "mLFUCache.put(0, 0);\n",
    "mLFUCache.get(0);"
   ]
  },
  {
   "cell_type": "code",
   "execution_count": 25,
   "metadata": {
    "collapsed": false
   },
   "outputs": [
    {
     "name": "stdout",
     "output_type": "stream",
     "text": [
      "-1\n",
      "=======\n",
      "mLFUCache.mLFUBin.binHead = <LFUCache.BinNode object at 0x7fed2faf5438>\n",
      "mLFUCache.mLFUBin.binHead.next = None\n",
      "=======\n",
      "mLFUCache.mLFUBin.binHead = <LFUCache.BinNode object at 0x7fed2faf5438>\n",
      "mLFUCache.mLFUBin.binHead.next = <LFUCache.BinNode object at 0x7fed2faf5278>\n",
      "=======\n",
      "mLFUCache.mLFUBin.nodeMap[2] = <LFUCache.BinNode object at 0x7fed2faf5278>\n",
      "mLFUCache.mLFUBin.nodeMap[2].cnt = 1\n",
      "mLFUCache.mLFUBin.nodeMap[2].keys = [2]\n",
      "mLFUCache.mLFUBin.nodeMap[2].prev = <LFUCache.BinNode object at 0x7fed2faf5438>\n",
      "mLFUCache.mLFUBin.nodeMap[2].next = None\n",
      "-1\n",
      "=======\n",
      "mLFUCache.mLFUBin.binHead = <LFUCache.BinNode object at 0x7fed2faf5438>\n",
      "mLFUCache.mLFUBin.binHead.next = <LFUCache.BinNode object at 0x7fed2faf5278>\n",
      "=======\n",
      "mLFUCache.mLFUBin.nodeMap[1] = <LFUCache.BinNode object at 0x7fed2faf5278>\n",
      "mLFUCache.mLFUBin.nodeMap[1].cnt = 1\n",
      "mLFUCache.mLFUBin.nodeMap[1].keys = [2, 1]\n",
      "mLFUCache.mLFUBin.nodeMap[1].prev = <LFUCache.BinNode object at 0x7fed2faf5438>\n",
      "mLFUCache.mLFUBin.nodeMap[1].next = None\n",
      "=======\n",
      "mLFUCache.mLFUBin.nodeMap[2] = <LFUCache.BinNode object at 0x7fed2faf5278>\n",
      "mLFUCache.mLFUBin.nodeMap[2].cnt = 1\n",
      "mLFUCache.mLFUBin.nodeMap[2].keys = [2, 1]\n",
      "mLFUCache.mLFUBin.nodeMap[2].prev = <LFUCache.BinNode object at 0x7fed2faf5438>\n",
      "mLFUCache.mLFUBin.nodeMap[2].next = None\n",
      "2\n",
      "6\n"
     ]
    }
   ],
   "source": [
    "mLFUCache = LFUCache(2)\n",
    "print(mLFUCache.get(2));\n",
    "\n",
    "print('=======')\n",
    "print('mLFUCache.mLFUBin.binHead = '+str(mLFUCache.mLFUBin.binHead))\n",
    "print('mLFUCache.mLFUBin.binHead.next = '+str(mLFUCache.mLFUBin.binHead.next))\n",
    "\n",
    "mLFUCache.put(2, 6);\n",
    "\n",
    "print('=======')\n",
    "print('mLFUCache.mLFUBin.binHead = '+str(mLFUCache.mLFUBin.binHead))\n",
    "print('mLFUCache.mLFUBin.binHead.next = '+str(mLFUCache.mLFUBin.binHead.next))\n",
    "print('=======')\n",
    "print('mLFUCache.mLFUBin.nodeMap[2] = '+str(mLFUCache.mLFUBin.nodeMap[2]))\n",
    "print('mLFUCache.mLFUBin.nodeMap[2].cnt = '+str(mLFUCache.mLFUBin.nodeMap[2].cnt))\n",
    "print('mLFUCache.mLFUBin.nodeMap[2].keys = '+str(mLFUCache.mLFUBin.nodeMap[2].keys))\n",
    "print('mLFUCache.mLFUBin.nodeMap[2].prev = '+str(mLFUCache.mLFUBin.nodeMap[2].prev))\n",
    "print('mLFUCache.mLFUBin.nodeMap[2].next = '+str(mLFUCache.mLFUBin.nodeMap[2].next))\n",
    "\n",
    "print(mLFUCache.get(1));\n",
    "mLFUCache.put(1, 5);\n",
    "\n",
    "print('=======')\n",
    "print('mLFUCache.mLFUBin.binHead = '+str(mLFUCache.mLFUBin.binHead))\n",
    "print('mLFUCache.mLFUBin.binHead.next = '+str(mLFUCache.mLFUBin.binHead.next))\n",
    "print('=======')\n",
    "print('mLFUCache.mLFUBin.nodeMap[1] = '+str(mLFUCache.mLFUBin.nodeMap[1]))\n",
    "print('mLFUCache.mLFUBin.nodeMap[1].cnt = '+str(mLFUCache.mLFUBin.nodeMap[1].cnt))\n",
    "print('mLFUCache.mLFUBin.nodeMap[1].keys = '+str(mLFUCache.mLFUBin.nodeMap[1].keys))\n",
    "print('mLFUCache.mLFUBin.nodeMap[1].prev = '+str(mLFUCache.mLFUBin.nodeMap[1].prev))\n",
    "print('mLFUCache.mLFUBin.nodeMap[1].next = '+str(mLFUCache.mLFUBin.nodeMap[1].next))\n",
    "print('=======')\n",
    "print('mLFUCache.mLFUBin.nodeMap[2] = '+str(mLFUCache.mLFUBin.nodeMap[2]))\n",
    "print('mLFUCache.mLFUBin.nodeMap[2].cnt = '+str(mLFUCache.mLFUBin.nodeMap[2].cnt))\n",
    "print('mLFUCache.mLFUBin.nodeMap[2].keys = '+str(mLFUCache.mLFUBin.nodeMap[2].keys))\n",
    "print('mLFUCache.mLFUBin.nodeMap[2].prev = '+str(mLFUCache.mLFUBin.nodeMap[2].prev))\n",
    "print('mLFUCache.mLFUBin.nodeMap[2].next = '+str(mLFUCache.mLFUBin.nodeMap[2].next))\n",
    "\n",
    "mLFUCache.put(1, 2);\n",
    "print(mLFUCache.get(1));\n",
    "print(mLFUCache.get(2));"
   ]
  }
 ],
 "metadata": {
  "kernelspec": {
   "display_name": "Python 3",
   "language": "python",
   "name": "python3"
  },
  "language_info": {
   "codemirror_mode": {
    "name": "ipython",
    "version": 3
   },
   "file_extension": ".py",
   "mimetype": "text/x-python",
   "name": "python",
   "nbconvert_exporter": "python",
   "pygments_lexer": "ipython3",
   "version": "3.4.3"
  }
 },
 "nbformat": 4,
 "nbformat_minor": 2
}
