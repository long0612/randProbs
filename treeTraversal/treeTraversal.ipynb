{
 "cells": [
  {
   "cell_type": "code",
   "execution_count": 1,
   "metadata": {
    "collapsed": false
   },
   "outputs": [],
   "source": [
    "import sys\n",
    "import numpy as np\n",
    "import Tree\n",
    "import traverse\n",
    "\n",
    "%load_ext autoreload\n",
    "%autoreload 2\n",
    "\n",
    "#sys.setrecursionlimit(512)"
   ]
  },
  {
   "cell_type": "code",
   "execution_count": 6,
   "metadata": {
    "collapsed": false
   },
   "outputs": [
    {
     "name": "stdout",
     "output_type": "stream",
     "text": [
      "True\n"
     ]
    }
   ],
   "source": [
    "treeSerial = '521XX3X4XX87XX96XXX'\n",
    "tree = Tree.deserialize(treeSerial)\n",
    "buf_dfs = []\n",
    "traverse.dfs(tree,buf_dfs)\n",
    "buf_bfs = []\n",
    "traverse.bfs(tree,buf_bfs)\n",
    "treeSerial2 = Tree.serialize(tree)\n",
    "\n",
    "'''\n",
    "preorder = [6,4,31,2,5]\n",
    "inorder = list(preorder)\n",
    "inorder.sort()\n",
    "print('preorder = '+str(preorder))\n",
    "print('inorder = '+str(inorder))\n",
    "tree = Tree.deserializePreIn(preorder,inorder)\n",
    "'''\n",
    "print(treeSerial2 == treeSerial)"
   ]
  },
  {
   "cell_type": "code",
   "execution_count": 7,
   "metadata": {
    "collapsed": false
   },
   "outputs": [
    {
     "name": "stdout",
     "output_type": "stream",
     "text": [
      "tree.val = 5\n",
      "tree.left.val = 2\n",
      "tree.right.val = 8\n",
      "tree.left.right.right.val = 4\n",
      "tree.right.right.left.val = 6\n",
      "buf_dfs = [5, 2, 1, 3, 4, 8, 7, 9, 6]\n",
      "buf_bfs = [5, 2, 8, 1, 3, 7, 9, 4, 6]\n",
      "treeSerial2 = 521XX3X4XX87XX96XXX\n"
     ]
    }
   ],
   "source": [
    "print('tree.val = '+str(tree.val))\n",
    "print('tree.left.val = '+str(tree.left.val))\n",
    "print('tree.right.val = '+str(tree.right.val))\n",
    "print('tree.left.right.right.val = '+str(tree.left.right.right.val))\n",
    "print('tree.right.right.left.val = '+str(tree.right.right.left.val))\n",
    "print('buf_dfs = '+str(buf_dfs))\n",
    "print('buf_bfs = '+str(buf_bfs))\n",
    "print('treeSerial2 = '+str(treeSerial2))"
   ]
  }
 ],
 "metadata": {
  "kernelspec": {
   "display_name": "Python 3",
   "language": "python",
   "name": "python3"
  },
  "language_info": {
   "codemirror_mode": {
    "name": "ipython",
    "version": 3
   },
   "file_extension": ".py",
   "mimetype": "text/x-python",
   "name": "python",
   "nbconvert_exporter": "python",
   "pygments_lexer": "ipython3",
   "version": "3.4.3"
  }
 },
 "nbformat": 4,
 "nbformat_minor": 2
}
