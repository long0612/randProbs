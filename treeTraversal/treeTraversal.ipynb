{
 "cells": [
  {
   "cell_type": "code",
   "execution_count": 16,
   "metadata": {
    "collapsed": false
   },
   "outputs": [
    {
     "name": "stdout",
     "output_type": "stream",
     "text": [
      "The autoreload extension is already loaded. To reload it, use:\n",
      "  %reload_ext autoreload\n"
     ]
    }
   ],
   "source": [
    "import sys\n",
    "import numpy as np\n",
    "import Tree\n",
    "import traverse\n",
    "\n",
    "%load_ext autoreload\n",
    "%autoreload 2\n",
    "\n",
    "#sys.setrecursionlimit(512)"
   ]
  },
  {
   "cell_type": "code",
   "execution_count": 17,
   "metadata": {
    "collapsed": false
   },
   "outputs": [
    {
     "data": {
      "image/png": "[encoded data removed]",
      "text/plain": [
       "<matplotlib.figure.Figure at 0x7f15f1bfed30>"
      ]
     },
     "metadata": {},
     "output_type": "display_data"
    }
   ],
   "source": [
    "treeSerial = '55,27,10,X,X,3,X,4,X,X,83,7,X,X,9,36,X,15,X,X,X,'\n",
    "tree = Tree.deserialize(treeSerial,plot=True)\n",
    "\n",
    "buf_dfsPre = []\n",
    "traverse.dfsPre(tree,buf_dfsPre)\n",
    "buf_dfsIn = []\n",
    "traverse.dfsIn(tree,buf_dfsIn)\n",
    "buf_dfsPost = []\n",
    "traverse.dfsPost(tree,buf_dfsPost)\n",
    "buf_bfs = []\n",
    "traverse.bfs(tree,buf_bfs)\n",
    "\n",
    "treeSerial2 = Tree.serialize(tree)"
   ]
  },
  {
   "cell_type": "code",
   "execution_count": 18,
   "metadata": {
    "collapsed": false
   },
   "outputs": [
    {
     "name": "stdout",
     "output_type": "stream",
     "text": [
      "treeSerial2 = 55,27,10,X,X,3,X,4,X,X,83,7,X,X,9,36,X,15,X,X,X,\n",
      "True\n",
      "buf_dfsPre = [55, 27, 10, 3, 4, 83, 7, 9, 36, 15]\n",
      "buf_dfsIn = [10, 27, 3, 4, 55, 7, 83, 36, 15, 9]\n",
      "buf_dfsPost = [10, 4, 3, 27, 7, 15, 36, 9, 83, 55]\n",
      "buf_bfs = [55, 27, 83, 10, 3, 7, 9, 4, 36, 15]\n",
      "========\n",
      "tree.val = 55\n",
      "tree.left.val = 27\n",
      "tree.right.val = 83\n",
      "tree.left.right.right.val = 4\n",
      "tree.right.right.left.val = 36\n"
     ]
    }
   ],
   "source": [
    "print('treeSerial2 = '+str(treeSerial2))\n",
    "print(treeSerial2 == treeSerial)\n",
    "\n",
    "print('buf_dfsPre = '+str(buf_dfsPre))\n",
    "print('buf_dfsIn = '+str(buf_dfsIn))\n",
    "print('buf_dfsPost = '+str(buf_dfsPost))\n",
    "print('buf_bfs = '+str(buf_bfs))\n",
    "\n",
    "print('========')\n",
    "\n",
    "print('tree.val = '+str(tree.val))\n",
    "print('tree.left.val = '+str(tree.left.val))\n",
    "print('tree.right.val = '+str(tree.right.val))\n",
    "print('tree.left.right.right.val = '+str(tree.left.right.right.val))\n",
    "print('tree.right.right.left.val = '+str(tree.right.right.left.val))"
   ]
  }
 ],
 "metadata": {
  "kernelspec": {
   "display_name": "Python 3",
   "language": "python",
   "name": "python3"
  },
  "language_info": {
   "codemirror_mode": {
    "name": "ipython",
    "version": 3
   },
   "file_extension": ".py",
   "mimetype": "text/x-python",
   "name": "python",
   "nbconvert_exporter": "python",
   "pygments_lexer": "ipython3",
   "version": "3.5.2"
  }
 },
 "nbformat": 4,
 "nbformat_minor": 2
}
