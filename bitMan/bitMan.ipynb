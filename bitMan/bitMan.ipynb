{
 "cells": [
  {
   "cell_type": "code",
   "execution_count": 13,
   "metadata": {
    "collapsed": false
   },
   "outputs": [
    {
     "name": "stdout",
     "output_type": "stream",
     "text": [
      "The autoreload extension is already loaded. To reload it, use:\n",
      "  %reload_ext autoreload\n"
     ]
    }
   ],
   "source": [
    "import numpy as np\n",
    "import utils\n",
    "\n",
    "%load_ext autoreload\n",
    "%autoreload 2"
   ]
  },
  {
   "cell_type": "code",
   "execution_count": 43,
   "metadata": {
    "collapsed": false
   },
   "outputs": [
    {
     "name": "stdout",
     "output_type": "stream",
     "text": [
      "x  = 0b0001010011011101\n",
      "rx = 0b1011101100101000\n",
      "True\n"
     ]
    }
   ],
   "source": [
    "x = 5341\n",
    "print('x  = '+format(x,'#018b'))\n",
    "rx = utils.reverseBits(x)\n",
    "print('rx = '+format(rx,'#018b'))\n",
    "xp = utils.reverseBits(rx)\n",
    "print(xp == x)"
   ]
  },
  {
   "cell_type": "code",
   "execution_count": 45,
   "metadata": {
    "collapsed": false
   },
   "outputs": [
    {
     "name": "stdout",
     "output_type": "stream",
     "text": [
      "numOf1s(x)  = 8\n",
      "numOf1s(rx)  = 8\n"
     ]
    }
   ],
   "source": [
    "print('numOf1s(x) = '+str(utils.numOf1s(x)))\n",
    "print('numOf1s(rx) = '+str(utils.numOf1s(rx)))"
   ]
  },
  {
   "cell_type": "code",
   "execution_count": 54,
   "metadata": {
    "collapsed": false
   },
   "outputs": [
    {
     "name": "stdout",
     "output_type": "stream",
     "text": [
      "addWithLogic(x,y) = 4341\n",
      "True\n"
     ]
    }
   ],
   "source": [
    "x = 4041\n",
    "y = 300\n",
    "#print('x = '+format(x,'#018b'))\n",
    "#print('y = '+format(y,'#018b'))\n",
    "print('addWithLogic(x,y) = '+str(utils.addWithLogic(x,y)))\n",
    "print(utils.addWithLogic(x,y) == x+y)"
   ]
  }
 ],
 "metadata": {
  "kernelspec": {
   "display_name": "Python 3",
   "language": "python",
   "name": "python3"
  },
  "language_info": {
   "codemirror_mode": {
    "name": "ipython",
    "version": 3
   },
   "file_extension": ".py",
   "mimetype": "text/x-python",
   "name": "python",
   "nbconvert_exporter": "python",
   "pygments_lexer": "ipython3",
   "version": "3.4.3"
  }
 },
 "nbformat": 4,
 "nbformat_minor": 2
}
